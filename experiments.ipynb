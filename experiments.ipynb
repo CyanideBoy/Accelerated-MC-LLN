{
 "cells": [
  {
   "cell_type": "code",
   "execution_count": 1,
   "metadata": {},
   "outputs": [],
   "source": [
    "%matplotlib inline"
   ]
  },
  {
   "cell_type": "code",
   "execution_count": 2,
   "metadata": {},
   "outputs": [],
   "source": [
    "from __future__ import division\n",
    "import networkx as nx\n",
    "import random\n",
    "import math\n",
    "import numpy as np\n",
    "import matplotlib\n",
    "import matplotlib.pyplot as plt\n",
    "import pickle as pl\n",
    "import sys\n",
    "\n",
    "from pandas import Series, DataFrame\n",
    "import pandas as pd\n",
    "# cimport numpy as np\n"
   ]
  },
  {
   "cell_type": "code",
   "execution_count": 3,
   "metadata": {},
   "outputs": [],
   "source": [
    "##### Parameters\n",
    "G_i = 2 # 1 for Friendster, 2 for Les miserables network\n",
    "if G_i == 1:\n",
    "    tour_N = 25 #5\n",
    "    tour_c = 0\n",
    "    deg_def = [50]\n",
    "    flag_fn = 1 # 1 for g(v) = d(v) > 25, 4 for avg clustering coeff\n",
    "if G_i == 2:\n",
    "    tour_N =  10 #5\n",
    "    tour_c = 0\n",
    "    deg_def = [10,4]\n",
    "    flag_fn = 2 # 1 for g(v) = d(v) > 10, 2 for g(v) = d(v) < 4, 3 for avg degree, 4 for avg clustering coeff\n",
    "    asy_var_MH_lesmis = [4.4154,14.93508,1.204e+03]\n",
    "    asy_var_RDS_lesmis = [1.1084,3.3240,272.7649]\n",
    "\n",
    "max_B = 10000 # maximum budget\n",
    "no_runs = 100 # no. of runs to average\n",
    "MH_do = 1 # Flag for doing MH simulation\n",
    "RDS_do = 1 # Flag for doing RDS simulation\n",
    "RDSRR_do = 1\n",
    "MHRR_do = 1\n",
    "\n",
    "SHOW_VAR_CONVG = 0\n",
    "ABS_ERROR = 1"
   ]
  },
  {
   "cell_type": "code",
   "execution_count": 4,
   "metadata": {},
   "outputs": [],
   "source": [
    "def node_fn(node):\n",
    "    if flag_fn == 1:\n",
    "        temp = int(G.degree(node)>deg_def[0])\n",
    "    elif flag_fn == 2:\n",
    "        temp = int(G.degree(node)<deg_def[1])\n",
    "    elif flag_fn == 3:\n",
    "        temp = G.degree(node)\n",
    "    elif flag_fn == 4:\n",
    "        deg = G.degree(node)\n",
    "        if deg < 2:\n",
    "            temp = 0\n",
    "        else:\n",
    "            temp = 2*nx.triangles(G,node)/(deg*(deg-1))\n",
    "    else:\n",
    "        print(\"Not a defined a function\")\n",
    "        sys.exit(0)\n",
    "    return temp"
   ]
  },
  {
   "cell_type": "code",
   "execution_count": 5,
   "metadata": {},
   "outputs": [],
   "source": [
    "def MH_sampling(G,B):\n",
    "    est_MH= []\n",
    "    est_MH_t = 0\n",
    "    sample = np.random.choice(G.nodes())\n",
    "    est_MH_t += node_fn(sample)\n",
    "    est_MH.append(est_MH_t)\n",
    "    for ii in range(2,B+1):\n",
    "        # print \"MH_sample: \",ii\n",
    "        neighbors = list(nx.neighbors(G,sample))\n",
    "        sample_t = np.random.choice(neighbors)\n",
    "        if np.random.rand() <= (G.degree(sample)/G.degree(sample_t)):\n",
    "            sample = sample_t\n",
    "\n",
    "        est_MH_t += node_fn(sample)\n",
    "        est_MH.append(est_MH_t/ii)\n",
    "    return np.array(est_MH)"
   ]
  },
  {
   "cell_type": "code",
   "execution_count": 6,
   "metadata": {},
   "outputs": [],
   "source": [
    "def RDS_sampling(G,B):\n",
    "    est_RW = []\n",
    "    est_RW_t1 = 0\n",
    "    est_RW_t2 = 0\n",
    "    sample = np.random.choice(G.nodes())\n",
    "    deg_pr_sent = G.degree(sample)\n",
    "    est_RW_t1 += node_fn(sample)/deg_pr_sent\n",
    "    est_RW_t2 += 1/deg_pr_sent\n",
    "    est_RW.append(est_RW_t1/est_RW_t2)\n",
    "    for ii in range(2,B+1):\n",
    "        # print \"rds_sample: \",ii\n",
    "        neighbors = list(nx.neighbors(G,sample))\n",
    "        sample = random.choice(neighbors)\n",
    "\n",
    "        deg_pr_sent = G.degree(sample)\n",
    "        est_RW_t1 += node_fn(sample)/deg_pr_sent\n",
    "        est_RW_t2 += 1/deg_pr_sent\n",
    "        est_RW.append(est_RW_t1/est_RW_t2)\n",
    "    return np.array(est_RW)"
   ]
  },
  {
   "cell_type": "code",
   "execution_count": 7,
   "metadata": {},
   "outputs": [],
   "source": [
    "def RDSRR_sampling(G,B):\n",
    "    M = np.sqrt(B)\n",
    "    restart_ind = np.square(np.arange(1,M))\n",
    "    est_RW = []\n",
    "    est_RW_t1 = 0\n",
    "    est_RW_t2 = 0\n",
    "    sample = np.random.choice(G.nodes())\n",
    "    deg_pr_sent = G.degree(sample)\n",
    "    est_RW_t1 += node_fn(sample)/deg_pr_sent\n",
    "    est_RW_t2 += 1/deg_pr_sent\n",
    "    est_RW.append(est_RW_t1/est_RW_t2)\n",
    "    for ii in range(2,B+1):\n",
    "        if ii in restart_ind:\n",
    "            sample = np.random.choice(G.nodes)\n",
    "        else:\n",
    "            neighbors = list(nx.neighbors(G,sample))\n",
    "            sample = random.choice(neighbors)\n",
    "\n",
    "        deg_pr_sent = G.degree(sample)\n",
    "        est_RW_t1 += node_fn(sample)/deg_pr_sent\n",
    "        est_RW_t2 += 1/deg_pr_sent\n",
    "        est_RW.append(est_RW_t1/est_RW_t2)\n",
    "    return np.array(est_RW)"
   ]
  },
  {
   "cell_type": "code",
   "execution_count": 8,
   "metadata": {},
   "outputs": [],
   "source": [
    "def MHRR_sampling(G,B):\n",
    "    M = np.sqrt(B)\n",
    "    restart_ind = np.square(np.arange(1,M))\n",
    "    est_MH= []\n",
    "    est_MH_t = 0\n",
    "    sample = np.random.choice(G.nodes())\n",
    "    est_MH_t += node_fn(sample)\n",
    "    est_MH.append(est_MH_t)\n",
    "    for ii in range(2,B+1):\n",
    "        if ii in restart_ind:\n",
    "            sample_t = np.random.choice(G.nodes)\n",
    "        else:\n",
    "            neighbors = list(nx.neighbors(G,sample))\n",
    "            sample_t = np.random.choice(neighbors)\n",
    "        \n",
    "        if np.random.rand() <= (G.degree(sample)/G.degree(sample_t)):\n",
    "            sample = sample_t\n",
    "\n",
    "        est_MH_t += node_fn(sample)\n",
    "        est_MH.append(est_MH_t/ii)\n",
    "    return np.array(est_MH)"
   ]
  },
  {
   "cell_type": "code",
   "execution_count": 9,
   "metadata": {},
   "outputs": [],
   "source": [
    "if G_i == 1:\n",
    "    G = nx.read_edgelist(\"friendster_community1_trimmed.edgelist\",nodetype = int)\n",
    "elif G_i == 2:\n",
    "    G = nx.les_miserables_graph()\n",
    "    G = nx.convert_node_labels_to_integers(G, first_label=0, ordering='default', label_attribute=None)\n",
    "G_no_edges=G.number_of_edges()\n",
    "G_no_nodes=G.number_of_nodes()"
   ]
  },
  {
   "cell_type": "code",
   "execution_count": 10,
   "metadata": {},
   "outputs": [],
   "source": [
    "if G_i == 1:\n",
    "    ##########################CHECK\n",
    "    if flag_fn == 1:\n",
    "        F_org = 0.265712074303 #sum([1 for i in G.nodes() if G.degree(i) ])/G_no_nodes\n",
    "    elif flag_fn == 4:\n",
    "        F_org = 0.4491010966748313\n",
    "    else:\n",
    "        sys.exit(\"Invalid function\")\n",
    "        \n",
    "elif G_i == 2:\n",
    "    if (flag_fn == 1) or (flag_fn == 2):\n",
    "        F_org = sum([node_fn(i) for i in G.nodes()])/G_no_nodes\n",
    "    elif flag_fn == 3:\n",
    "        F_org = 2*G_no_edges/G_no_nodes\n",
    "    elif flag_fn == 4:\n",
    "        F_org = nx.average_clustering(G)"
   ]
  },
  {
   "cell_type": "code",
   "execution_count": 11,
   "metadata": {},
   "outputs": [],
   "source": [
    "if MH_do:\n",
    "    MSE_MH_t = 0\n",
    "    for ii in range(1,no_runs+1):\n",
    "        MSE_MH_t += (MH_sampling(G,max_B)-F_org)**2\n",
    "    MSE_MH = MSE_MH_t/(no_runs)\n",
    "    MSE_MH = np.sqrt(MSE_MH)/F_org"
   ]
  },
  {
   "cell_type": "code",
   "execution_count": 12,
   "metadata": {},
   "outputs": [],
   "source": [
    "if RDS_do:\n",
    "    MSE_rds_t = 0\n",
    "    for ii in range(1,no_runs+1):\n",
    "        MSE_rds_t += (RDS_sampling(G,max_B)-F_org)**2\n",
    "    MSE_rds = MSE_rds_t/(no_runs)\n",
    "    MSE_rds = np.sqrt(MSE_rds)/F_org"
   ]
  },
  {
   "cell_type": "code",
   "execution_count": 13,
   "metadata": {},
   "outputs": [],
   "source": [
    "if RDSRR_do:\n",
    "    MSE_rdsrr_t = 0\n",
    "    for ii in range(1,no_runs+1):\n",
    "        MSE_rdsrr_t += (RDSRR_sampling(G,max_B)-F_org)**2\n",
    "    MSE_rdsrr = MSE_rdsrr_t/(no_runs)\n",
    "    MSE_rdsrr = np.sqrt(MSE_rdsrr)/F_org"
   ]
  },
  {
   "cell_type": "code",
   "execution_count": 14,
   "metadata": {},
   "outputs": [],
   "source": [
    "if MHRR_do:\n",
    "    MSE_mhrr_t = 0\n",
    "    for ii in range(1,no_runs+1):\n",
    "        MSE_mhrr_t += (MHRR_sampling(G,max_B)-F_org)**2\n",
    "    MSE_mhrr = MSE_mhrr_t/(no_runs)\n",
    "    MSE_mhrr = np.sqrt(MSE_mhrr)/F_org"
   ]
  },
  {
   "cell_type": "code",
   "execution_count": 15,
   "metadata": {},
   "outputs": [
    {
     "data": {
      "image/png": "[encoded data removed]",
      "text/plain": [
       "<Figure size 1152x864 with 1 Axes>"
      ]
     },
     "metadata": {
      "needs_background": "light"
     },
     "output_type": "display_data"
    }
   ],
   "source": [
    "plt.figure(1,figsize=(16,12)) \n",
    "plt.plot(np.array(list(range(len(MSE_MH)))),MSE_MH,color='red',linewidth=2.3)\n",
    "plt.plot(np.array(list(range(len(MSE_mhrr)))),MSE_mhrr,color='blue',linewidth=2.3)\n",
    "plt.plot(np.array(list(range(len(MSE_rds)))),MSE_rds,color='gray',linewidth=2.5)\n",
    "plt.plot(np.array(list(range(len(MSE_rdsrr)))),MSE_rdsrr,color='purple',linewidth=2.5)\n",
    "plt.grid()"
   ]
  },
  {
   "cell_type": "code",
   "execution_count": null,
   "metadata": {},
   "outputs": [],
   "source": []
  }
 ],
 "metadata": {
  "kernelspec": {
   "display_name": "Python 3.8.3 64-bit ('base': conda)",
   "language": "python",
   "name": "python38364bitbasecondadbbbc0d6687a4c64a122e31974242c3a"
  },
  "language_info": {
   "codemirror_mode": {
    "name": "ipython",
    "version": 3
   },
   "file_extension": ".py",
   "mimetype": "text/x-python",
   "name": "python",
   "nbconvert_exporter": "python",
   "pygments_lexer": "ipython3",
   "version": "3.8.3"
  }
 },
 "nbformat": 4,
 "nbformat_minor": 4
}
