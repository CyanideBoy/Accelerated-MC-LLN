{
 "cells": [
  {
   "cell_type": "code",
   "execution_count": 2,
   "metadata": {},
   "outputs": [],
   "source": [
    "%matplotlib inline"
   ]
  },
  {
   "cell_type": "code",
   "execution_count": 3,
   "metadata": {},
   "outputs": [],
   "source": [
    "import networkx as nx\n",
    "import random\n",
    "import math\n",
    "import numpy as np\n",
    "import matplotlib.pyplot as plt\n",
    "\n",
    "from pandas import Series, DataFrame\n",
    "import pandas as pd"
   ]
  },
  {
   "cell_type": "code",
   "execution_count": 27,
   "metadata": {},
   "outputs": [],
   "source": [
    "##### Parameters\n",
    "G_i = 2 # 1 for Friendster, 2 for Les miserables network\n",
    "if G_i == 1:\n",
    "    tour_N = 25 #5\n",
    "    tour_c = 0\n",
    "    deg_def = [50]\n",
    "    flag_fn = 1 # 1 for g(v) = d(v) > 25, 4 for avg clustering coeff\n",
    "if G_i == 2:\n",
    "    deg_def = [10,4]\n",
    "    flag_fn = 4 # 1 for g(v) = d(v) > 10, 2 for g(v) = d(v) < 4, 3 for avg degree, 4 for avg clustering coeff\n",
    "    \n",
    "max_B = 10000 # maximum budget\n",
    "no_runs = 100 # no. of runs to average\n",
    "MH_do = 1 # Flag for doing MH simulation\n",
    "RDS_do = 1 # Flag for doing RDS simulation\n",
    "RT_do = 1 # Flag for RT simulation\n",
    "RR_do = 1 # Flag for RR simulation"
   ]
  },
  {
   "cell_type": "code",
   "execution_count": 28,
   "metadata": {},
   "outputs": [],
   "source": [
    "def node_fn(node):\n",
    "    if flag_fn == 1:\n",
    "        temp = int(G.degree(node)>deg_def[0])\n",
    "    elif flag_fn == 2:\n",
    "        temp = int(G.degree(node)<deg_def[1])\n",
    "    elif flag_fn == 3:\n",
    "        temp = G.degree(node)\n",
    "    elif flag_fn == 4:\n",
    "        deg = G.degree(node)\n",
    "        if deg < 2:\n",
    "            temp = 0\n",
    "        else:\n",
    "            temp = 2*nx.triangles(G,node)/(deg*(deg-1))\n",
    "    return temp"
   ]
  },
  {
   "cell_type": "code",
   "execution_count": 29,
   "metadata": {},
   "outputs": [],
   "source": [
    "def MH_sampling(G,B):\n",
    "    est_MH= []\n",
    "    est_MH_t = 0\n",
    "    sample = np.random.choice(G.nodes())\n",
    "    est_MH_t += node_fn(sample)\n",
    "    est_MH.append(est_MH_t)\n",
    "    for ii in range(2,B+1):\n",
    "        # print \"MH_sample: \",ii\n",
    "        neighbors = list(nx.neighbors(G,sample))\n",
    "        sample_t = np.random.choice(neighbors)\n",
    "        if np.random.rand() <= (G.degree(sample)/G.degree(sample_t)):\n",
    "            sample = sample_t\n",
    "\n",
    "        est_MH_t += node_fn(sample)\n",
    "        est_MH.append(est_MH_t/ii)\n",
    "    return np.array(est_MH)"
   ]
  },
  {
   "cell_type": "code",
   "execution_count": 30,
   "metadata": {},
   "outputs": [],
   "source": [
    "def RDS_sampling(G,B):\n",
    "    est_RW = []\n",
    "    est_RW_t1 = 0\n",
    "    est_RW_t2 = 0\n",
    "    sample = np.random.choice(G.nodes())\n",
    "    deg_pr_sent = G.degree(sample)\n",
    "    est_RW_t1 += node_fn(sample)/deg_pr_sent\n",
    "    est_RW_t2 += 1/deg_pr_sent\n",
    "    est_RW.append(est_RW_t1/est_RW_t2)\n",
    "    for ii in range(2,B+1):\n",
    "        # print \"rds_sample: \",ii\n",
    "        neighbors = list(nx.neighbors(G,sample))\n",
    "        sample = random.choice(neighbors)\n",
    "\n",
    "        deg_pr_sent = G.degree(sample)\n",
    "        est_RW_t1 += node_fn(sample)/deg_pr_sent\n",
    "        est_RW_t2 += 1/deg_pr_sent\n",
    "        est_RW.append(est_RW_t1/est_RW_t2)\n",
    "    return np.array(est_RW)"
   ]
  },
  {
   "cell_type": "code",
   "execution_count": 31,
   "metadata": {},
   "outputs": [],
   "source": [
    "def random_walk_tour_estimate(G,super_node,nbr_out_sup,F_org_sup_1,vol_sup_node,max_B,B_arr):\n",
    "\n",
    "    R = []\n",
    "    R_1 =[]\n",
    "    R_2 = []\n",
    "    summ = 0\n",
    "    summ1 =0\n",
    "    summ2 =0\n",
    "    \n",
    "    xi_arr = []\n",
    "    xi_sum = 0\n",
    "\n",
    "    size_super_node = len(super_node)\n",
    "    tour_i = 1\n",
    "    while xi_sum <= max_B:\n",
    "\n",
    "        R_k1 = 0\n",
    "        R_k2 = 0\n",
    "        \n",
    "        sample = random.choice(nbr_out_sup)\n",
    "        xi = 1\n",
    "        while sample not in super_node:\n",
    "            deg_sample = G.degree(sample)\n",
    "            R_k1 += node_fn(sample)/deg_sample\n",
    "            R_k2 += 1/deg_sample\n",
    "            xi += 1\n",
    "            neighbors = list(nx.neighbors(G,sample))\n",
    "            sample = random.choice(neighbors)\n",
    "\n",
    "        R_k1 += F_org_sup_1/vol_sup_node\n",
    "        R_k2 += size_super_node/vol_sup_node\n",
    "        \n",
    "        R_1.append(R_k1+summ1)\n",
    "        R_2.append(R_k2+summ2)\n",
    "        \n",
    "        summ1 += R_k1\n",
    "        summ2 += R_k2\n",
    "        \n",
    "        xi_sum += xi\n",
    "        xi_arr.append(xi_sum)\n",
    "        tour_i += 1\n",
    "\n",
    "    R_1 = np.array(R_1)\n",
    "    R_2 = np.array(R_2)\n",
    "    R = R_1/R_2\n",
    "    \n",
    "    xi_arrr = np.array(xi_arr)\n",
    "    ind = np.zeros(len(B_arr),dtype = int)\n",
    "    for ii,it in enumerate(B_arr):\n",
    "        ind[ii]=np.argmax(xi_arrr > it)-1 \n",
    "        # Without -1, argmax chooses the xi_arrth element which crosses \"it\"\n",
    "        # With -1, we go one step backwards\n",
    "    return (R[ind])"
   ]
  },
  {
   "cell_type": "code",
   "execution_count": 32,
   "metadata": {},
   "outputs": [],
   "source": [
    "def RR_sampling(G,B):\n",
    "    M = np.sqrt(B)\n",
    "    restart_ind = np.square(np.arange(1,M))\n",
    "    est_RW = []\n",
    "    est_RW_t1 = 0\n",
    "    est_RW_t2 = 0\n",
    "    sample = np.random.choice(G.nodes())\n",
    "    deg_pr_sent = G.degree(sample)\n",
    "    est_RW_t1 += node_fn(sample)/deg_pr_sent\n",
    "    est_RW_t2 += 1/deg_pr_sent\n",
    "    est_RW.append(est_RW_t1/est_RW_t2)\n",
    "    for ii in range(2,B+1):\n",
    "        if ii in restart_ind:\n",
    "            sample = np.random.choice(G.nodes)\n",
    "        else:\n",
    "            neighbors = list(nx.neighbors(G,sample))\n",
    "            sample = random.choice(neighbors)\n",
    "\n",
    "        deg_pr_sent = G.degree(sample)\n",
    "        est_RW_t1 += node_fn(sample)/deg_pr_sent\n",
    "        est_RW_t2 += 1/deg_pr_sent\n",
    "        est_RW.append(est_RW_t1/est_RW_t2)\n",
    "    return np.array(est_RW)"
   ]
  },
  {
   "cell_type": "code",
   "execution_count": 33,
   "metadata": {},
   "outputs": [],
   "source": [
    "if G_i == 1:\n",
    "    G = nx.read_edgelist(\"friendster_community1_trimmed.edgelist\",nodetype = int)\n",
    "elif G_i == 2:\n",
    "    G = nx.les_miserables_graph()\n",
    "    G = nx.convert_node_labels_to_integers(G, first_label=0, ordering='default', label_attribute=None)\n",
    "G_no_edges=G.number_of_edges()\n",
    "G_no_nodes=G.number_of_nodes()"
   ]
  },
  {
   "cell_type": "code",
   "execution_count": 34,
   "metadata": {},
   "outputs": [],
   "source": [
    "if G_i == 1:\n",
    "    ##########################CHECK\n",
    "    if flag_fn == 1:\n",
    "        F_org = 0.265712074303 #sum([1 for i in G.nodes() if G.degree(i) ])/G_no_nodes\n",
    "    elif flag_fn == 4:\n",
    "        F_org = 0.4491010966748313\n",
    "    else:\n",
    "        sys.exit(\"Invalid function\")\n",
    "        \n",
    "elif G_i == 2:\n",
    "    if (flag_fn == 1) or (flag_fn == 2):\n",
    "        F_org = sum([node_fn(i) for i in G.nodes()])/G_no_nodes\n",
    "    elif flag_fn == 3:\n",
    "        F_org = 2*G_no_edges/G_no_nodes\n",
    "    elif flag_fn == 4:\n",
    "        F_org = nx.average_clustering(G)"
   ]
  },
  {
   "cell_type": "code",
   "execution_count": 35,
   "metadata": {},
   "outputs": [],
   "source": [
    "if MH_do:\n",
    "    MSE_MH_t = 0\n",
    "    for ii in range(1,no_runs+1):\n",
    "        MSE_MH_t += (MH_sampling(G,max_B)-F_org)**2\n",
    "    MSE_MH = MSE_MH_t/(no_runs)\n",
    "    MSE_MH = np.sqrt(MSE_MH)/F_org"
   ]
  },
  {
   "cell_type": "code",
   "execution_count": 36,
   "metadata": {},
   "outputs": [],
   "source": [
    "if RDS_do:\n",
    "    MSE_rds_t = 0\n",
    "    for ii in range(1,no_runs+1):\n",
    "        MSE_rds_t += (RDS_sampling(G,max_B)-F_org)**2\n",
    "    MSE_rds = MSE_rds_t/(no_runs)\n",
    "    MSE_rds = np.sqrt(MSE_rds)/F_org"
   ]
  },
  {
   "cell_type": "code",
   "execution_count": 37,
   "metadata": {},
   "outputs": [],
   "source": [
    "if RR_do:\n",
    "    MSE_rr_t = 0\n",
    "    for ii in range(1,no_runs+1):\n",
    "        MSE_rr_t += (RR_sampling(G,max_B)-F_org)**2\n",
    "    MSE_rr = MSE_rr_t/(no_runs)\n",
    "    MSE_rr = np.sqrt(MSE_rr)/F_org"
   ]
  },
  {
   "cell_type": "code",
   "execution_count": 38,
   "metadata": {},
   "outputs": [],
   "source": [
    "## Super-node calculations =================================================\n",
    "'''\n",
    "size_super_node = int(input(\"Size of super node (def = 1000): \") or \"1000\")\n",
    "if size_super_node == 1:\n",
    "    sup_node_1_sel = input(\"Select highest degree node (y/n), def = y): \") or \"y\"\n",
    "    if sup_node_1_sel == 'y':\n",
    "        super_node = [max(G.degree(), key=G.degree().get)]\n",
    "        print(\"Selected the node with highest degree !!\")\n",
    "    else:\n",
    "        super_node = random.sample(G.nodes(), size_super_node) #super-node formation from uniform samples\n",
    "'''\n",
    "size_super_node=25\n",
    "if size_super_node != 1:\n",
    "    super_node = random.sample(G.nodes(), size_super_node) #super-node formation from uniform samples\n",
    "## =========================================================================\n",
    "\n",
    "#Finding super_node's neighbours outside super node\n",
    "nbr_out_sup=[]\n",
    "sum_temp=0\n",
    "F_org_sup_1=0\n",
    "i=0\n",
    "for node_s in super_node:\n",
    "    #print(\"super node \", i)\n",
    "    i+=1\n",
    "    list_s_n=[node_s_n for node_s_n in nx.neighbors(G,node_s) if node_s_n not in super_node]\n",
    "    nbr_out_sup=nbr_out_sup+list_s_n\n",
    "    F_org_sup_1 += node_fn(node_s)\n",
    "\n",
    "vol_sup_node = len(nbr_out_sup)\n",
    "#print(vol_sup_node)\n",
    "## =========================================================================="
   ]
  },
  {
   "cell_type": "code",
   "execution_count": 39,
   "metadata": {},
   "outputs": [],
   "source": [
    "if RT_do:\n",
    "    B_arr = np.arange(100,max_B+1,100)\n",
    "    MSE_rt_t = 0\n",
    "    for ii in range(1,no_runs+1):\n",
    "        MSE_rt_t += (random_walk_tour_estimate(G,super_node,nbr_out_sup,F_org_sup_1,vol_sup_node,max_B,B_arr)-F_org)**2\n",
    "    MSE_rt = MSE_rt_t/(no_runs)\n",
    "    MSE_rt = np.sqrt(MSE_rt)/F_org"
   ]
  },
  {
   "cell_type": "code",
   "execution_count": 40,
   "metadata": {},
   "outputs": [
    {
     "data": {
      "text/plain": [
       "[<matplotlib.lines.Line2D at 0x7f25b6341a30>]"
      ]
     },
     "execution_count": 40,
     "metadata": {},
     "output_type": "execute_result"
    },
    {
     "data": {
      "image/png": "[encoded data removed]",
      "text/plain": [
       "<Figure size 1152x864 with 1 Axes>"
      ]
     },
     "metadata": {
      "needs_background": "light"
     },
     "output_type": "display_data"
    }
   ],
   "source": [
    "plt.figure(1,figsize=(16,12)) \n",
    "plt.plot(np.array(list(range(len(MSE_rr)))),MSE_rr,color='black')\n",
    "plt.plot(np.array(list(range(len(MSE_MH)))),MSE_MH,color='red')\n",
    "plt.plot(B_arr,MSE_rt,color='blue')\n",
    "plt.plot(np.array(list(range(len(MSE_rds)))),MSE_rds,color='gray')"
   ]
  },
  {
   "cell_type": "code",
   "execution_count": null,
   "metadata": {},
   "outputs": [],
   "source": []
  }
 ],
 "metadata": {
  "kernelspec": {
   "display_name": "Python 3.8.3 64-bit ('base': conda)",
   "language": "python",
   "name": "python38364bitbasecondadbbbc0d6687a4c64a122e31974242c3a"
  },
  "language_info": {
   "codemirror_mode": {
    "name": "ipython",
    "version": 3
   },
   "file_extension": ".py",
   "mimetype": "text/x-python",
   "name": "python",
   "nbconvert_exporter": "python",
   "pygments_lexer": "ipython3",
   "version": "3.8.3"
  }
 },
 "nbformat": 4,
 "nbformat_minor": 4
}
