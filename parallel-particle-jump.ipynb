{
 "cells": [
  {
   "cell_type": "code",
   "execution_count": 1,
   "metadata": {},
   "outputs": [],
   "source": [
    "import networkx as nx\n",
    "import matplotlib.pyplot as plt\n",
    "import numpy as np\n",
    "import random"
   ]
  },
  {
   "cell_type": "code",
   "execution_count": 2,
   "metadata": {},
   "outputs": [],
   "source": [
    "random.seed(10) \n",
    "np.random.seed(0)\n",
    "V = 4039\n",
    "T = 1000*V\n",
    "init_node_1 = np.random.randint(0,V)\n",
    "init_node_2 = np.random.randint(0,V)"
   ]
  },
  {
   "cell_type": "code",
   "execution_count": 3,
   "metadata": {},
   "outputs": [],
   "source": [
    "nodes = list(range(V)) # Get a list of only the node names\n",
    "edges = np.loadtxt('facebook_combined.txt',dtype=int)"
   ]
  },
  {
   "cell_type": "code",
   "execution_count": 4,
   "metadata": {},
   "outputs": [],
   "source": [
    "G = nx.Graph()\n",
    "G.add_nodes_from(nodes)\n",
    "G.add_edges_from(edges)\n",
    "nx.set_node_attributes(G, 0,'visits')"
   ]
  },
  {
   "cell_type": "code",
   "execution_count": 5,
   "metadata": {},
   "outputs": [
    {
     "name": "stdout",
     "output_type": "stream",
     "text": [
      "Name: \n",
      "Type: Graph\n",
      "Number of nodes: 4039\n",
      "Number of edges: 88234\n",
      "Average degree:  43.6910\n"
     ]
    },
    {
     "data": {
      "image/png": "[encoded data removed]",
      "text/plain": [
       "<Figure size 432x288 with 1 Axes>"
      ]
     },
     "metadata": {
      "needs_background": "light"
     },
     "output_type": "display_data"
    }
   ],
   "source": [
    "print(nx.info(G))\n",
    "z = list(G.degree([n for n in G]))\n",
    "y = [y[1] for y in z]\n",
    "b = np.linspace(0,max(y))\n",
    "plt.hist(y,bins=b)\n",
    "plt.show()"
   ]
  },
  {
   "cell_type": "code",
   "execution_count": 6,
   "metadata": {},
   "outputs": [],
   "source": [
    "H1 = G.copy()\n",
    "H2 = G.copy()\n",
    "Hv1 = G.copy()\n",
    "Hv2 = G.copy()"
   ]
  },
  {
   "cell_type": "code",
   "execution_count": 7,
   "metadata": {},
   "outputs": [],
   "source": [
    "pi = np.array([x[1] for x in list(G.degree())])\n",
    "pi = pi/np.sum(pi)"
   ]
  },
  {
   "cell_type": "code",
   "execution_count": 8,
   "metadata": {},
   "outputs": [
    {
     "name": "stdout",
     "output_type": "stream",
     "text": [
      "Init Nodes -  2732 2607\n"
     ]
    }
   ],
   "source": [
    "t = 0\n",
    "v1 = init_node_1\n",
    "v2 = init_node_2\n",
    "fv1 = np.empty(V)\n",
    "fv2 = np.empty(V)\n",
    "f1 = np.empty(V)\n",
    "f2 = np.empty(V)\n",
    "err_v1 = []\n",
    "err_v2 = []\n",
    "err_vm = []\n",
    "err_1 = []\n",
    "err_2 = []\n",
    "err_m = []\n",
    "explore = np.arange(1,T,T//(100*np.log(T))+1)\n",
    "tracker = 0\n",
    "\n",
    "print(\"Init Nodes - \",init_node_1,init_node_2)\n",
    "\n",
    "while t < T:\n",
    "    if t in explore:\n",
    "        v_n1 = random.choice(list(H1.adj[v2]))\n",
    "        v_n2 = random.choice(list(H2.adj[v1]))\n",
    "        tracker = (tracker + 1)%2\n",
    "\n",
    "    else:\n",
    "        v_n1 = random.choice(list(H1.adj[v1]))\n",
    "        v_n2 = random.choice(list(H2.adj[v2]))\n",
    "        \n",
    "    if tracker == 0:\n",
    "        v_nv1 = v_n1\n",
    "        v_nv2 = v_n2\n",
    "    else:\n",
    "        v_nv1 = v_n2\n",
    "        v_nv2 = v_n1\n",
    "            \n",
    "    Hv1.nodes[v_nv1]['visits'] += 1\n",
    "    Hv2.nodes[v_nv2]['visits'] += 1\n",
    "    H1.nodes[v_n1]['visits'] += 1\n",
    "    H2.nodes[v_n2]['visits'] += 1\n",
    "    v1 = v_n1\n",
    "    v2 = v_n2\n",
    "    t += 1\n",
    "    \n",
    "    if t%(V//10) == 0:\n",
    "        for i in range(V):\n",
    "            fv1[i] = Hv1.nodes[i]['visits']\n",
    "            fv2[i] = Hv2.nodes[i]['visits']\n",
    "            f1[i] = H1.nodes[i]['visits']\n",
    "            f2[i] = H2.nodes[i]['visits']\n",
    "        pi_v1 = fv1/np.sum(fv1)\n",
    "        pi_v2 = fv2/np.sum(fv2)\n",
    "        pi_1 = f1/np.sum(f1)\n",
    "        pi_2 = f2/np.sum(f2)\n",
    "        \n",
    "        err_v1.append(np.mean(abs(pi-pi_v1)))\n",
    "        err_v2.append(np.mean(abs(pi-pi_v2)))\n",
    "        err_vm.append(np.mean(abs(pi-(pi_v1+pi_v2)/2)))\n",
    "        \n",
    "        err_1.append(np.mean(abs(pi-pi_1)))\n",
    "        err_2.append(np.mean(abs(pi-pi_2)))\n",
    "        err_m.append(np.mean(abs(pi-(pi_1+pi_2)/2)))"
   ]
  },
  {
   "cell_type": "code",
   "execution_count": 12,
   "metadata": {},
   "outputs": [
    {
     "data": {
      "image/png": "[encoded data removed]",
      "text/plain": [
       "<Figure size 576x360 with 1 Axes>"
      ]
     },
     "metadata": {
      "needs_background": "light"
     },
     "output_type": "display_data"
    }
   ],
   "source": [
    "plt.figure(1,figsize=(8,5)) \n",
    "#plt.plot(np.array(list(range(len(err_v1))))*(V//10),np.log(err_1),color='blue')\n",
    "#plt.plot(np.array(list(range(len(err_v1))))*(V//10),np.log(err_2),color='red')\n",
    "plt.plot(np.array(list(range(len(err_v1))))*(V//10),np.log(err_m),color='green')\n",
    "\n",
    "#plt.plot(np.array(list(range(len(err_v1))))*(V//10),np.log(err_v1),color='black')\n",
    "#plt.plot(np.array(list(range(len(err_v1))))*(V//10),np.log(err_v2),color='black')\n",
    "#plt.plot(np.array(list(range(len(err_v1))))*(V//10),np.log(err_vm),color='black')\n",
    "\n",
    "plt.grid()"
   ]
  },
  {
   "cell_type": "code",
   "execution_count": 13,
   "metadata": {},
   "outputs": [],
   "source": [
    "n_threads = len(explore)\n",
    "\n",
    "G = nx.Graph()\n",
    "G.add_nodes_from(nodes)\n",
    "G.add_edges_from(edges)\n",
    "nx.set_node_attributes(G, [0]*n_threads,'visits')\n",
    "H = G.copy()"
   ]
  },
  {
   "cell_type": "code",
   "execution_count": null,
   "metadata": {},
   "outputs": [],
   "source": [
    "t = 0\n",
    "init_nodes = np\n",
    "fv1 = np.empty(V)\n",
    "fv2 = np.empty(V)\n",
    "f1 = np.empty(V)\n",
    "f2 = np.empty(V)\n",
    "err_v1 = []\n",
    "err_v2 = []\n",
    "err_vm = []\n",
    "err_1 = []\n",
    "err_2 = []\n",
    "err_m = []\n",
    "explore = np.arange(1,T,T//(100*np.log(T))+1)\n",
    "tracker = 0\n",
    "\n",
    "print(\"Init Nodes - \",init_node_1,init_node_2)\n",
    "\n",
    "while t < T:\n",
    "    if t in explore:\n",
    "        v_n1 = random.choice(list(H1.adj[v2]))\n",
    "        v_n2 = random.choice(list(H2.adj[v1]))\n",
    "        tracker = (tracker + 1)%2\n",
    "\n",
    "    else:\n",
    "        v_n1 = random.choice(list(H1.adj[v1]))\n",
    "        v_n2 = random.choice(list(H2.adj[v2]))\n",
    "        \n",
    "    if tracker == 0:\n",
    "        v_nv1 = v_n1\n",
    "        v_nv2 = v_n2\n",
    "    else:\n",
    "        v_nv1 = v_n2\n",
    "        v_nv2 = v_n1\n",
    "            \n",
    "    Hv1.nodes[v_nv1]['visits'] += 1\n",
    "    Hv2.nodes[v_nv2]['visits'] += 1\n",
    "    H1.nodes[v_n1]['visits'] += 1\n",
    "    H2.nodes[v_n2]['visits'] += 1\n",
    "    v1 = v_n1\n",
    "    v2 = v_n2\n",
    "    t += 1\n",
    "    \n",
    "    if t%(V//10) == 0:\n",
    "        for i in range(V):\n",
    "            fv1[i] = Hv1.nodes[i]['visits']\n",
    "            fv2[i] = Hv2.nodes[i]['visits']\n",
    "            f1[i] = H1.nodes[i]['visits']\n",
    "            f2[i] = H2.nodes[i]['visits']\n",
    "        pi_v1 = fv1/np.sum(fv1)\n",
    "        pi_v2 = fv2/np.sum(fv2)\n",
    "        pi_1 = f1/np.sum(f1)\n",
    "        pi_2 = f2/np.sum(f2)\n",
    "        \n",
    "        err_v1.append(np.mean(abs(pi-pi_v1)))\n",
    "        err_v2.append(np.mean(abs(pi-pi_v2)))\n",
    "        err_vm.append(np.mean(abs(pi-(pi_v1+pi_v2)/2)))\n",
    "        \n",
    "        err_1.append(np.mean(abs(pi-pi_1)))\n",
    "        err_2.append(np.mean(abs(pi-pi_2)))\n",
    "        err_m.append(np.mean(abs(pi-(pi_1+pi_2)/2)))"
   ]
  },
  {
   "cell_type": "code",
   "execution_count": null,
   "metadata": {},
   "outputs": [],
   "source": []
  }
 ],
 "metadata": {
  "kernelspec": {
   "display_name": "Python 3.8.3 64-bit ('base': conda)",
   "language": "python",
   "name": "python38364bitbasecondadbbbc0d6687a4c64a122e31974242c3a"
  },
  "language_info": {
   "codemirror_mode": {
    "name": "ipython",
    "version": 3
   },
   "file_extension": ".py",
   "mimetype": "text/x-python",
   "name": "python",
   "nbconvert_exporter": "python",
   "pygments_lexer": "ipython3",
   "version": "3.8.3"
  }
 },
 "nbformat": 4,
 "nbformat_minor": 4
}
